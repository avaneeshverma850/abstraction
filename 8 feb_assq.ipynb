{
 "cells": [
  {
   "cell_type": "code",
   "execution_count": 1,
   "id": "16508ff8-9311-4f26-bf2f-5b493cc09544",
   "metadata": {},
   "outputs": [
    {
     "data": {
      "text/plain": [
       "1999"
      ]
     },
     "execution_count": 1,
     "metadata": {},
     "output_type": "execute_result"
    }
   ],
   "source": [
    "\"\"\"  encapsulation\n",
    "an act of combining property and methoda related to the \n",
    "same entity is called encapsulation\"\"\"\n",
    "class car:\n",
    "    def __init__(self,year,make,model,speed):\n",
    "        self.__year=year  #3rd person does not know what data store their\n",
    "        self.__make=make\n",
    "        self.__model=model\n",
    "        self.__speed=0\n",
    "c=car(1999,\"hero\",\"honda\",12)\n",
    "c._car__year #in this we can access this\n"
   ]
  },
  {
   "cell_type": "code",
   "execution_count": 72,
   "id": "04de87bd-79ae-4f8d-936d-635d06a4d9f8",
   "metadata": {},
   "outputs": [
    {
     "name": "stdout",
     "output_type": "stream",
     "text": [
      "petrol 123 petrol\n"
     ]
    }
   ],
   "source": [
    "\"\"\"     Abstraction \n",
    "a process in which we  hide  parent class method when  we inherited in child class than the parent class object does not show in child \n",
    "class  here we use abc module and used a decorator method\"\"\"\n",
    "#example\n",
    "from abc import ABC,abstractmethod\n",
    "class car(ABC):\n",
    "    @abstractmethod\n",
    "    def colour(self):\n",
    "        pass\n",
    "    @abstractmethod\n",
    "    def model(self):\n",
    "        pass\n",
    "    @abstractmethod\n",
    "    def fuel(self):\n",
    "        pass\n",
    "class BMW(car):\n",
    "    def __init__(self,colour,model,fuel):\n",
    "        self.colour=colour\n",
    "        self.model=model\n",
    "        self.fuel=fuel\n",
    "    def colour(self):\n",
    "        print(self.colour)\n",
    "    def model(self):\n",
    "        return self.model\n",
    "    def fuel(self):\n",
    "        return self.fuel\n",
    "    def return_car(self):\n",
    "        print(self.fuel,self.model,self.fuel)\n",
    "c=BMW(\"black\",123,\"petrol\")\n",
    "c.return_car()\n",
    "\n"
   ]
  },
  {
   "cell_type": "code",
   "execution_count": 57,
   "id": "efef82ba-76fd-4e2f-a732-a8f215fbe923",
   "metadata": {},
   "outputs": [
    {
     "data": {
      "text/plain": [
       "40"
      ]
     },
     "execution_count": 57,
     "metadata": {},
     "output_type": "execute_result"
    }
   ],
   "source": [
    "from abc import ABC,abstractmethod\n",
    "class shape(ABC):\n",
    "    @abstractmethod\n",
    "    def area(self):\n",
    "        pass   \n",
    "    @abstractmethod                                    #here we abstract the  base class \n",
    "    def perimeter(self):\n",
    "        pass\n",
    "class square(shape):\n",
    "    def __init__(self,s):\n",
    "        self.side=s\n",
    "    def area(self):\n",
    "        return self.side*self.side\n",
    "    def perimeter(self):\n",
    "        return 4*self.side\n",
    "s=square(10)\n",
    "s.area()\n",
    "s.perimeter()"
   ]
  },
  {
   "cell_type": "code",
   "execution_count": null,
   "id": "5b3a2b60-d667-4626-b905-67c6b3ab9fc1",
   "metadata": {},
   "outputs": [],
   "source": [
    "\"\"\"  abc module in python\n",
    "way of creating an abstract base class through built in module called abc(stands for Abstract Base Class)\n",
    "\n",
    "Used-abc class  that is used as a blueprint for other classes.abc are a powerful feature in python for other class that may have something in\n",
    "common\"\"\""
   ]
  },
  {
   "cell_type": "code",
   "execution_count": null,
   "id": "ec1bd38a-5f4d-417f-8a97-d5ab075c0be3",
   "metadata": {},
   "outputs": [],
   "source": [
    "\" data abst"
   ]
  }
 ],
 "metadata": {
  "kernelspec": {
   "display_name": "Python 3 (ipykernel)",
   "language": "python",
   "name": "python3"
  },
  "language_info": {
   "codemirror_mode": {
    "name": "ipython",
    "version": 3
   },
   "file_extension": ".py",
   "mimetype": "text/x-python",
   "name": "python",
   "nbconvert_exporter": "python",
   "pygments_lexer": "ipython3",
   "version": "3.10.8"
  }
 },
 "nbformat": 4,
 "nbformat_minor": 5
}
